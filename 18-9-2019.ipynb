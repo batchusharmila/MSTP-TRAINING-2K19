{
 "cells": [
  {
   "cell_type": "code",
   "execution_count": 1,
   "metadata": {},
   "outputs": [
    {
     "name": "stdout",
     "output_type": "stream",
     "text": [
      "even\n"
     ]
    }
   ],
   "source": [
    "### check if given number is even or not\n",
    "n=12\n",
    "if n%2==0:\n",
    "     print(\"even\")\n",
    "else:\n",
    "        print(\"odd\")"
   ]
  },
  {
   "cell_type": "code",
   "execution_count": 1,
   "metadata": {},
   "outputs": [
    {
     "name": "stdout",
     "output_type": "stream",
     "text": [
      "2020\n",
      "leap\n"
     ]
    }
   ],
   "source": [
    "#### check if given year is leap or not\n",
    "n=int(input())\n",
    "if n%400==0 and n%100!=0 or n%4==0:\n",
    "    print(\"leap\")\n",
    "else:\n",
    "    print(\"non leap\")"
   ]
  },
  {
   "cell_type": "markdown",
   "metadata": {},
   "source": [
    "### check if a number exists in a given range"
   ]
  },
  {
   "cell_type": "code",
   "execution_count": 1,
   "metadata": {},
   "outputs": [
    {
     "name": "stdout",
     "output_type": "stream",
     "text": [
      "350\n",
      "number is in range\n"
     ]
    }
   ],
   "source": [
    "n=int(input())\n",
    "if n>100 and n<500:\n",
    "    print(\"number is in range\")\n",
    "else:\n",
    "        print(\"number is not in range\")\n",
    "        \n",
    "   "
   ]
  },
  {
   "cell_type": "code",
   "execution_count": 4,
   "metadata": {},
   "outputs": [
    {
     "name": "stdout",
     "output_type": "stream",
     "text": [
      "355\n",
      "number is not multiple of 10\n"
     ]
    }
   ],
   "source": [
    "#### check if a number is multiple of 10\n",
    "n=int(input())\n",
    "if n%10==0:\n",
    "    print(\"number is multiple of 10\")\n",
    "else:\n",
    "    print(\"number is not multiple of 10\")"
   ]
  },
  {
   "cell_type": "code",
   "execution_count": 5,
   "metadata": {},
   "outputs": [
    {
     "name": "stdout",
     "output_type": "stream",
     "text": [
      "12\n",
      "15\n",
      "not equal\n"
     ]
    }
   ],
   "source": [
    "# check if given string is equal to a number\n",
    "n=int(input())\n",
    "s=input()\n",
    "if str(n)==s:\n",
    "    print(\"equal\")\n",
    "else:\n",
    "        print(\"not equal\")"
   ]
  },
  {
   "cell_type": "code",
   "execution_count": 7,
   "metadata": {},
   "outputs": [
    {
     "name": "stdout",
     "output_type": "stream",
     "text": [
      "45\n",
      "number is not a factor\n"
     ]
    }
   ],
   "source": [
    "## check if number is factor of 1000\n",
    "n=int(input())\n",
    "if 1000%n==0:\n",
    "    print(\"number is a factor\")\n",
    "else:\n",
    "        print(\"number is not a factor\")"
   ]
  },
  {
   "cell_type": "code",
   "execution_count": 10,
   "metadata": {},
   "outputs": [
    {
     "name": "stdout",
     "output_type": "stream",
     "text": [
      "2018\n",
      "not a leap year\n"
     ]
    }
   ],
   "source": [
    "# calculate the no of nano seconds in leap year \n",
    "y=int(input())\n",
    "if(y%4==0 or y%400==0) and (y%100!=0):\n",
    "    print(366*24*60*60*1000*100)\n",
    "else:\n",
    "        print(\"not a leap year\")"
   ]
  },
  {
   "cell_type": "code",
   "execution_count": null,
   "metadata": {},
   "outputs": [],
   "source": []
  }
 ],
 "metadata": {
  "kernelspec": {
   "display_name": "Python 3",
   "language": "python",
   "name": "python3"
  },
  "language_info": {
   "codemirror_mode": {
    "name": "ipython",
    "version": 3
   },
   "file_extension": ".py",
   "mimetype": "text/x-python",
   "name": "python",
   "nbconvert_exporter": "python",
   "pygments_lexer": "ipython3",
   "version": "3.7.3"
  }
 },
 "nbformat": 4,
 "nbformat_minor": 2
}
